{
 "cells": [
  {
   "cell_type": "code",
   "execution_count": 1,
   "metadata": {},
   "outputs": [],
   "source": [
    "import gurobipy as gp\n",
    "from gurobipy import GRB\n",
    "import sys\n",
    "\n",
    "# Data Processing\n",
    "import pandas as pd\n",
    "import numpy as np\n",
    "import random"
   ]
  },
  {
   "cell_type": "code",
   "execution_count": 2,
   "metadata": {},
   "outputs": [
    {
     "name": "stdout",
     "output_type": "stream",
     "text": [
      "        ID_CLIENTE  probabilidad_de_aceptar\n",
      "0        1375586.0                 0.024083\n",
      "1        1050612.0                 0.003222\n",
      "2        1050613.0                 0.002569\n",
      "3        1050615.0                -0.001019\n",
      "4        1050616.0                 0.002581\n",
      "...            ...                      ...\n",
      "602555    899549.0                 0.035544\n",
      "602556   1441442.0                 0.027612\n",
      "602557   1454431.0                -0.000314\n",
      "602558     56812.0                 0.019501\n",
      "602559    981034.0                 0.034644\n",
      "\n",
      "[602560 rows x 2 columns]\n"
     ]
    }
   ],
   "source": [
    "tabla_final = pd.read_csv('Resultados_Boosting_Tree.csv', sep = \",\")\n",
    "tabla_final = tabla_final[[\"ID_CLIENTE\",\"probabilidad_de_aceptar\"]]\n",
    "print(tabla_final)"
   ]
  },
  {
   "cell_type": "code",
   "execution_count": 3,
   "metadata": {},
   "outputs": [],
   "source": [
    "array_cliente_probabilidad = tabla_final.to_numpy()\n",
    "array_cliente_probabilidad = array_cliente_probabilidad.tolist()"
   ]
  },
  {
   "cell_type": "code",
   "execution_count": 4,
   "metadata": {},
   "outputs": [
    {
     "name": "stdout",
     "output_type": "stream",
     "text": [
      "Restricted license - for non-production use only - expires 2024-10-28\n"
     ]
    }
   ],
   "source": [
    "# Crear un objeto de modelo de Gurobi\n",
    "model = gp.Model()"
   ]
  },
  {
   "cell_type": "code",
   "execution_count": 5,
   "metadata": {},
   "outputs": [],
   "source": [
    "# Conjuntos del modelo\n",
    "\n",
    "I = array_cliente_probabilidad #Conjunto de personas preaprobadas"
   ]
  },
  {
   "cell_type": "code",
   "execution_count": 6,
   "metadata": {},
   "outputs": [],
   "source": [
    "# Obtenemos las cardinalidades de cada conjunto\n",
    "car_i = len(I)"
   ]
  },
  {
   "cell_type": "code",
   "execution_count": 7,
   "metadata": {},
   "outputs": [],
   "source": [
    "# Parámetros del modelo\n",
    "C = 1000 # Cobertura\n",
    "\n",
    "p = list() # puntaje de posibilidad de la adquisición de una tarjeta de crédito para la persona preaprobada i.\n",
    "for i in range(car_i):\n",
    "    p.append(array_cliente_probabilidad[i][1])\n",
    "U = 29587 #utilidades generadas por una persona\n",
    "CPA_base = 8238"
   ]
  },
  {
   "cell_type": "code",
   "execution_count": 8,
   "metadata": {},
   "outputs": [],
   "source": [
    "# Creamos las variables de decisión\n",
    "\n",
    "e = model.addVars(car_i, vtype=GRB.BINARY, name=\"e\")  # 1 si a la persona se le envia cualquier tipo de publicidad, 0 en otro caso."
   ]
  },
  {
   "cell_type": "code",
   "execution_count": 15,
   "metadata": {},
   "outputs": [
    {
     "name": "stdout",
     "output_type": "stream",
     "text": [
      "Unexpected exception formatting exception. Falling back to standard exception\n"
     ]
    },
    {
     "name": "stderr",
     "output_type": "stream",
     "text": [
      "Traceback (most recent call last):\n",
      "  File \"src/gurobipy/linexpr.pxi\", line 568, in gurobipy.LinExpr.__truediv__\n",
      "TypeError: float() argument must be a string or a number, not 'gurobipy.LinExpr'\n",
      "\n",
      "During handling of the above exception, another exception occurred:\n",
      "\n",
      "Traceback (most recent call last):\n",
      "  File \"/Users/Cristobal/Library/Python/3.9/lib/python/site-packages/IPython/core/interactiveshell.py\", line 3460, in run_code\n",
      "    exec(code_obj, self.user_global_ns, self.user_ns)\n",
      "  File \"/var/folders/4f/dbgwrrz13h1_vh4b2d4htbn80000gn/T/ipykernel_20655/674696661.py\", line 3, in <module>\n",
      "    model.setObjective((gp.quicksum(e[i] * p[i] for i in range(car_i)))/(gp.quicksum(e[i] for i in range(car_i))), sense=GRB.MAXIMIZE)\n",
      "  File \"src/gurobipy/linexpr.pxi\", line 570, in gurobipy.LinExpr.__truediv__\n",
      "gurobipy.GurobiError: Divisor must be a constant\n",
      "\n",
      "During handling of the above exception, another exception occurred:\n",
      "\n",
      "Traceback (most recent call last):\n",
      "  File \"/Users/Cristobal/Library/Python/3.9/lib/python/site-packages/IPython/core/interactiveshell.py\", line 2057, in showtraceback\n",
      "    stb = self.InteractiveTB.structured_traceback(\n",
      "  File \"/Users/Cristobal/Library/Python/3.9/lib/python/site-packages/IPython/core/ultratb.py\", line 1288, in structured_traceback\n",
      "    return FormattedTB.structured_traceback(\n",
      "  File \"/Users/Cristobal/Library/Python/3.9/lib/python/site-packages/IPython/core/ultratb.py\", line 1177, in structured_traceback\n",
      "    return VerboseTB.structured_traceback(\n",
      "  File \"/Users/Cristobal/Library/Python/3.9/lib/python/site-packages/IPython/core/ultratb.py\", line 1049, in structured_traceback\n",
      "    formatted_exceptions += self.format_exception_as_a_whole(etype, evalue, etb, lines_of_context,\n",
      "  File \"/Users/Cristobal/Library/Python/3.9/lib/python/site-packages/IPython/core/ultratb.py\", line 935, in format_exception_as_a_whole\n",
      "    self.get_records(etb, number_of_lines_of_context, tb_offset) if etb else []\n",
      "  File \"/Users/Cristobal/Library/Python/3.9/lib/python/site-packages/IPython/core/ultratb.py\", line 1003, in get_records\n",
      "    lines, first = inspect.getsourcelines(etb.tb_frame)\n",
      "  File \"/Library/Developer/CommandLineTools/Library/Frameworks/Python3.framework/Versions/3.9/lib/python3.9/inspect.py\", line 1006, in getsourcelines\n",
      "    lines, lnum = findsource(object)\n",
      "  File \"/Library/Developer/CommandLineTools/Library/Frameworks/Python3.framework/Versions/3.9/lib/python3.9/inspect.py\", line 835, in findsource\n",
      "    raise OSError('could not get source code')\n",
      "OSError: could not get source code\n"
     ]
    }
   ],
   "source": [
    "# Seteamos la función objetivo\n",
    "\n",
    "model.setObjective((gp.quicksum(e[i] * p[i] for i in range(car_i)))/(gp.quicksum(e[i] for i in range(car_i))), sense=GRB.MAXIMIZE)"
   ]
  },
  {
   "cell_type": "code",
   "execution_count": 13,
   "metadata": {},
   "outputs": [
    {
     "name": "stdout",
     "output_type": "stream",
     "text": [
      "Unexpected exception formatting exception. Falling back to standard exception\n"
     ]
    },
    {
     "name": "stderr",
     "output_type": "stream",
     "text": [
      "Traceback (most recent call last):\n",
      "  File \"src/gurobipy/linexpr.pxi\", line 568, in gurobipy.LinExpr.__truediv__\n",
      "TypeError: float() argument must be a string or a number, not 'gurobipy.LinExpr'\n",
      "\n",
      "During handling of the above exception, another exception occurred:\n",
      "\n",
      "Traceback (most recent call last):\n",
      "  File \"/Users/Cristobal/Library/Python/3.9/lib/python/site-packages/IPython/core/interactiveshell.py\", line 3460, in run_code\n",
      "    exec(code_obj, self.user_global_ns, self.user_ns)\n",
      "  File \"/var/folders/4f/dbgwrrz13h1_vh4b2d4htbn80000gn/T/ipykernel_20655/3660822398.py\", line 6, in <module>\n",
      "    model.addConstrs(123.36 * ( (gp.quicksum(e[i] * p[i] for i in range(car_i)))/(gp.quicksum(e[i] for i in range(car_i))))^(-0.994) <= U, \"c2\")\n",
      "  File \"src/gurobipy/linexpr.pxi\", line 570, in gurobipy.LinExpr.__truediv__\n",
      "gurobipy.GurobiError: Divisor must be a constant\n",
      "\n",
      "During handling of the above exception, another exception occurred:\n",
      "\n",
      "Traceback (most recent call last):\n",
      "  File \"/Users/Cristobal/Library/Python/3.9/lib/python/site-packages/IPython/core/interactiveshell.py\", line 2057, in showtraceback\n",
      "    stb = self.InteractiveTB.structured_traceback(\n",
      "  File \"/Users/Cristobal/Library/Python/3.9/lib/python/site-packages/IPython/core/ultratb.py\", line 1288, in structured_traceback\n",
      "    return FormattedTB.structured_traceback(\n",
      "  File \"/Users/Cristobal/Library/Python/3.9/lib/python/site-packages/IPython/core/ultratb.py\", line 1177, in structured_traceback\n",
      "    return VerboseTB.structured_traceback(\n",
      "  File \"/Users/Cristobal/Library/Python/3.9/lib/python/site-packages/IPython/core/ultratb.py\", line 1049, in structured_traceback\n",
      "    formatted_exceptions += self.format_exception_as_a_whole(etype, evalue, etb, lines_of_context,\n",
      "  File \"/Users/Cristobal/Library/Python/3.9/lib/python/site-packages/IPython/core/ultratb.py\", line 935, in format_exception_as_a_whole\n",
      "    self.get_records(etb, number_of_lines_of_context, tb_offset) if etb else []\n",
      "  File \"/Users/Cristobal/Library/Python/3.9/lib/python/site-packages/IPython/core/ultratb.py\", line 1003, in get_records\n",
      "    lines, first = inspect.getsourcelines(etb.tb_frame)\n",
      "  File \"/Library/Developer/CommandLineTools/Library/Frameworks/Python3.framework/Versions/3.9/lib/python3.9/inspect.py\", line 1006, in getsourcelines\n",
      "    lines, lnum = findsource(object)\n",
      "  File \"/Library/Developer/CommandLineTools/Library/Frameworks/Python3.framework/Versions/3.9/lib/python3.9/inspect.py\", line 835, in findsource\n",
      "    raise OSError('could not get source code')\n",
      "OSError: could not get source code\n"
     ]
    }
   ],
   "source": [
    "# Agregamos las restricciones\n",
    "\n",
    "# Cobertura fija\n",
    "model.addConstr(gp.quicksum(e[i] for i in range(car_i)) == C, \"c1\")\n",
    "# CPA < Ingreso\n",
    "model.addConstrs(123.36 * ( (gp.quicksum(e[i] * p[i] for i in range(car_i)))/(gp.quicksum(e[i] for i in range(car_i))))^(-0.994) <= U, \"c2\")\n",
    "# Limitar el número de ofertas enviadas a una persona\n",
    "model.addConstrs(123.36 * ( (gp.quicksum(e[i] * p[i] for i in range(car_i)))/(gp.quicksum(e[i] for i in range(car_i))))^(-0.994) >= CPA_base , \"c3\")"
   ]
  },
  {
   "cell_type": "code",
   "execution_count": 14,
   "metadata": {},
   "outputs": [
    {
     "name": "stdout",
     "output_type": "stream",
     "text": [
      "Gurobi Optimizer version 10.0.1 build v10.0.1rc0 (mac64[arm])\n",
      "\n",
      "CPU model: Apple M2\n",
      "Thread count: 8 physical cores, 8 logical processors, using up to 8 threads\n",
      "\n"
     ]
    },
    {
     "ename": "GurobiError",
     "evalue": "Model too large for size-limited license; visit https://www.gurobi.com/free-trial for a full license",
     "output_type": "error",
     "traceback": [
      "\u001b[0;31m---------------------------------------------------------------------------\u001b[0m",
      "\u001b[0;31mGurobiError\u001b[0m                               Traceback (most recent call last)",
      "Cell \u001b[0;32mIn[14], line 3\u001b[0m\n\u001b[1;32m      1\u001b[0m \u001b[38;5;66;03m# Optimizamos el modelo\u001b[39;00m\n\u001b[0;32m----> 3\u001b[0m \u001b[43mmodel\u001b[49m\u001b[38;5;241;43m.\u001b[39;49m\u001b[43moptimize\u001b[49m\u001b[43m(\u001b[49m\u001b[43m)\u001b[49m\n\u001b[1;32m      5\u001b[0m \u001b[38;5;66;03m# Imprimimos la solución óptima\u001b[39;00m\n\u001b[1;32m      7\u001b[0m \u001b[38;5;28;01mif\u001b[39;00m model\u001b[38;5;241m.\u001b[39mstatus \u001b[38;5;241m==\u001b[39m GRB\u001b[38;5;241m.\u001b[39mOPTIMAL:\n",
      "File \u001b[0;32msrc/gurobipy/model.pxi:875\u001b[0m, in \u001b[0;36mgurobipy.Model.optimize\u001b[0;34m()\u001b[0m\n",
      "\u001b[0;31mGurobiError\u001b[0m: Model too large for size-limited license; visit https://www.gurobi.com/free-trial for a full license"
     ]
    }
   ],
   "source": [
    "# Optimizamos el modelo\n",
    "\n",
    "model.optimize()\n",
    "\n",
    "# Imprimimos la solución óptima\n",
    "\n",
    "if model.status == GRB.OPTIMAL:\n",
    "    print(\"Encontrada solución óptima!\")\n",
    "    print(\"Valor de función objetivo: \", model.objVal)\n",
    "    print(\"Variables:\")\n",
    "    for var in model.getVars():\n",
    "        print(var.varName, var.x)\n",
    "else:\n",
    "    print(\"No se encontró solución factible.\")"
   ]
  },
  {
   "cell_type": "code",
   "execution_count": 25,
   "metadata": {},
   "outputs": [
    {
     "data": {
      "text/html": [
       "<div>\n",
       "<style scoped>\n",
       "    .dataframe tbody tr th:only-of-type {\n",
       "        vertical-align: middle;\n",
       "    }\n",
       "\n",
       "    .dataframe tbody tr th {\n",
       "        vertical-align: top;\n",
       "    }\n",
       "\n",
       "    .dataframe thead th {\n",
       "        text-align: right;\n",
       "    }\n",
       "</style>\n",
       "<table border=\"1\" class=\"dataframe\">\n",
       "  <thead>\n",
       "    <tr style=\"text-align: right;\">\n",
       "      <th></th>\n",
       "      <th>Personas_que_se_envia</th>\n",
       "    </tr>\n",
       "  </thead>\n",
       "  <tbody>\n",
       "    <tr>\n",
       "      <th>0</th>\n",
       "      <td>1.0</td>\n",
       "    </tr>\n",
       "    <tr>\n",
       "      <th>1</th>\n",
       "      <td>-0.0</td>\n",
       "    </tr>\n",
       "    <tr>\n",
       "      <th>2</th>\n",
       "      <td>-0.0</td>\n",
       "    </tr>\n",
       "    <tr>\n",
       "      <th>3</th>\n",
       "      <td>-0.0</td>\n",
       "    </tr>\n",
       "    <tr>\n",
       "      <th>4</th>\n",
       "      <td>-0.0</td>\n",
       "    </tr>\n",
       "    <tr>\n",
       "      <th>...</th>\n",
       "      <td>...</td>\n",
       "    </tr>\n",
       "    <tr>\n",
       "      <th>602555</th>\n",
       "      <td>1.0</td>\n",
       "    </tr>\n",
       "    <tr>\n",
       "      <th>602556</th>\n",
       "      <td>1.0</td>\n",
       "    </tr>\n",
       "    <tr>\n",
       "      <th>602557</th>\n",
       "      <td>-0.0</td>\n",
       "    </tr>\n",
       "    <tr>\n",
       "      <th>602558</th>\n",
       "      <td>1.0</td>\n",
       "    </tr>\n",
       "    <tr>\n",
       "      <th>602559</th>\n",
       "      <td>1.0</td>\n",
       "    </tr>\n",
       "  </tbody>\n",
       "</table>\n",
       "<p>602560 rows × 1 columns</p>\n",
       "</div>"
      ],
      "text/plain": [
       "        Personas_que_se_envia\n",
       "0                         1.0\n",
       "1                        -0.0\n",
       "2                        -0.0\n",
       "3                        -0.0\n",
       "4                        -0.0\n",
       "...                       ...\n",
       "602555                    1.0\n",
       "602556                    1.0\n",
       "602557                   -0.0\n",
       "602558                    1.0\n",
       "602559                    1.0\n",
       "\n",
       "[602560 rows x 1 columns]"
      ]
     },
     "execution_count": 25,
     "metadata": {},
     "output_type": "execute_result"
    }
   ],
   "source": [
    "valores_e = [e[i].x for i in range(car_i)]\n",
    "df = pd.DataFrame({'Personas_que_se_envia':valores_e})\n",
    "df"
   ]
  },
  {
   "cell_type": "code",
   "execution_count": 26,
   "metadata": {},
   "outputs": [
    {
     "data": {
      "text/html": [
       "<div>\n",
       "<style scoped>\n",
       "    .dataframe tbody tr th:only-of-type {\n",
       "        vertical-align: middle;\n",
       "    }\n",
       "\n",
       "    .dataframe tbody tr th {\n",
       "        vertical-align: top;\n",
       "    }\n",
       "\n",
       "    .dataframe thead th {\n",
       "        text-align: right;\n",
       "    }\n",
       "</style>\n",
       "<table border=\"1\" class=\"dataframe\">\n",
       "  <thead>\n",
       "    <tr style=\"text-align: right;\">\n",
       "      <th></th>\n",
       "      <th>ID_CLIENTE</th>\n",
       "      <th>probabilidad_de_aceptar</th>\n",
       "      <th>Personas_que_se_envia</th>\n",
       "    </tr>\n",
       "  </thead>\n",
       "  <tbody>\n",
       "    <tr>\n",
       "      <th>0</th>\n",
       "      <td>1375586.0</td>\n",
       "      <td>0.024083</td>\n",
       "      <td>1.0</td>\n",
       "    </tr>\n",
       "    <tr>\n",
       "      <th>1</th>\n",
       "      <td>1050612.0</td>\n",
       "      <td>0.003222</td>\n",
       "      <td>-0.0</td>\n",
       "    </tr>\n",
       "    <tr>\n",
       "      <th>2</th>\n",
       "      <td>1050613.0</td>\n",
       "      <td>0.002569</td>\n",
       "      <td>-0.0</td>\n",
       "    </tr>\n",
       "    <tr>\n",
       "      <th>3</th>\n",
       "      <td>1050615.0</td>\n",
       "      <td>-0.001019</td>\n",
       "      <td>-0.0</td>\n",
       "    </tr>\n",
       "    <tr>\n",
       "      <th>4</th>\n",
       "      <td>1050616.0</td>\n",
       "      <td>0.002581</td>\n",
       "      <td>-0.0</td>\n",
       "    </tr>\n",
       "    <tr>\n",
       "      <th>...</th>\n",
       "      <td>...</td>\n",
       "      <td>...</td>\n",
       "      <td>...</td>\n",
       "    </tr>\n",
       "    <tr>\n",
       "      <th>602555</th>\n",
       "      <td>899549.0</td>\n",
       "      <td>0.035544</td>\n",
       "      <td>1.0</td>\n",
       "    </tr>\n",
       "    <tr>\n",
       "      <th>602556</th>\n",
       "      <td>1441442.0</td>\n",
       "      <td>0.027612</td>\n",
       "      <td>1.0</td>\n",
       "    </tr>\n",
       "    <tr>\n",
       "      <th>602557</th>\n",
       "      <td>1454431.0</td>\n",
       "      <td>-0.000314</td>\n",
       "      <td>-0.0</td>\n",
       "    </tr>\n",
       "    <tr>\n",
       "      <th>602558</th>\n",
       "      <td>56812.0</td>\n",
       "      <td>0.019501</td>\n",
       "      <td>1.0</td>\n",
       "    </tr>\n",
       "    <tr>\n",
       "      <th>602559</th>\n",
       "      <td>981034.0</td>\n",
       "      <td>0.034644</td>\n",
       "      <td>1.0</td>\n",
       "    </tr>\n",
       "  </tbody>\n",
       "</table>\n",
       "<p>602560 rows × 3 columns</p>\n",
       "</div>"
      ],
      "text/plain": [
       "        ID_CLIENTE  probabilidad_de_aceptar  Personas_que_se_envia\n",
       "0        1375586.0                 0.024083                    1.0\n",
       "1        1050612.0                 0.003222                   -0.0\n",
       "2        1050613.0                 0.002569                   -0.0\n",
       "3        1050615.0                -0.001019                   -0.0\n",
       "4        1050616.0                 0.002581                   -0.0\n",
       "...            ...                      ...                    ...\n",
       "602555    899549.0                 0.035544                    1.0\n",
       "602556   1441442.0                 0.027612                    1.0\n",
       "602557   1454431.0                -0.000314                   -0.0\n",
       "602558     56812.0                 0.019501                    1.0\n",
       "602559    981034.0                 0.034644                    1.0\n",
       "\n",
       "[602560 rows x 3 columns]"
      ]
     },
     "execution_count": 26,
     "metadata": {},
     "output_type": "execute_result"
    }
   ],
   "source": [
    "tabla_con_id_cliente_mas_probabilidad = pd.merge(tabla_final, df, left_index=True, right_index=True)\n",
    "\n",
    "tabla_con_id_cliente_mas_probabilidad"
   ]
  },
  {
   "cell_type": "code",
   "execution_count": 27,
   "metadata": {},
   "outputs": [
    {
     "data": {
      "text/html": [
       "<div>\n",
       "<style scoped>\n",
       "    .dataframe tbody tr th:only-of-type {\n",
       "        vertical-align: middle;\n",
       "    }\n",
       "\n",
       "    .dataframe tbody tr th {\n",
       "        vertical-align: top;\n",
       "    }\n",
       "\n",
       "    .dataframe thead th {\n",
       "        text-align: right;\n",
       "    }\n",
       "</style>\n",
       "<table border=\"1\" class=\"dataframe\">\n",
       "  <thead>\n",
       "    <tr style=\"text-align: right;\">\n",
       "      <th></th>\n",
       "      <th>ID_CLIENTE</th>\n",
       "      <th>probabilidad_de_aceptar</th>\n",
       "      <th>Personas_que_se_envia</th>\n",
       "    </tr>\n",
       "  </thead>\n",
       "  <tbody>\n",
       "    <tr>\n",
       "      <th>0</th>\n",
       "      <td>1375586.0</td>\n",
       "      <td>0.024083</td>\n",
       "      <td>1.0</td>\n",
       "    </tr>\n",
       "    <tr>\n",
       "      <th>9</th>\n",
       "      <td>1050624.0</td>\n",
       "      <td>0.030805</td>\n",
       "      <td>1.0</td>\n",
       "    </tr>\n",
       "    <tr>\n",
       "      <th>14</th>\n",
       "      <td>1050586.0</td>\n",
       "      <td>0.024081</td>\n",
       "      <td>1.0</td>\n",
       "    </tr>\n",
       "    <tr>\n",
       "      <th>21</th>\n",
       "      <td>1050601.0</td>\n",
       "      <td>0.004928</td>\n",
       "      <td>1.0</td>\n",
       "    </tr>\n",
       "    <tr>\n",
       "      <th>26</th>\n",
       "      <td>1050669.0</td>\n",
       "      <td>0.030257</td>\n",
       "      <td>1.0</td>\n",
       "    </tr>\n",
       "    <tr>\n",
       "      <th>...</th>\n",
       "      <td>...</td>\n",
       "      <td>...</td>\n",
       "      <td>...</td>\n",
       "    </tr>\n",
       "    <tr>\n",
       "      <th>602554</th>\n",
       "      <td>882125.0</td>\n",
       "      <td>0.031876</td>\n",
       "      <td>1.0</td>\n",
       "    </tr>\n",
       "    <tr>\n",
       "      <th>602555</th>\n",
       "      <td>899549.0</td>\n",
       "      <td>0.035544</td>\n",
       "      <td>1.0</td>\n",
       "    </tr>\n",
       "    <tr>\n",
       "      <th>602556</th>\n",
       "      <td>1441442.0</td>\n",
       "      <td>0.027612</td>\n",
       "      <td>1.0</td>\n",
       "    </tr>\n",
       "    <tr>\n",
       "      <th>602558</th>\n",
       "      <td>56812.0</td>\n",
       "      <td>0.019501</td>\n",
       "      <td>1.0</td>\n",
       "    </tr>\n",
       "    <tr>\n",
       "      <th>602559</th>\n",
       "      <td>981034.0</td>\n",
       "      <td>0.034644</td>\n",
       "      <td>1.0</td>\n",
       "    </tr>\n",
       "  </tbody>\n",
       "</table>\n",
       "<p>417289 rows × 3 columns</p>\n",
       "</div>"
      ],
      "text/plain": [
       "        ID_CLIENTE  probabilidad_de_aceptar  Personas_que_se_envia\n",
       "0        1375586.0                 0.024083                    1.0\n",
       "9        1050624.0                 0.030805                    1.0\n",
       "14       1050586.0                 0.024081                    1.0\n",
       "21       1050601.0                 0.004928                    1.0\n",
       "26       1050669.0                 0.030257                    1.0\n",
       "...            ...                      ...                    ...\n",
       "602554    882125.0                 0.031876                    1.0\n",
       "602555    899549.0                 0.035544                    1.0\n",
       "602556   1441442.0                 0.027612                    1.0\n",
       "602558     56812.0                 0.019501                    1.0\n",
       "602559    981034.0                 0.034644                    1.0\n",
       "\n",
       "[417289 rows x 3 columns]"
      ]
     },
     "execution_count": 27,
     "metadata": {},
     "output_type": "execute_result"
    }
   ],
   "source": [
    "valores_positivos = tabla_con_id_cliente_mas_probabilidad[tabla_con_id_cliente_mas_probabilidad['Personas_que_se_envia'] == 1]\n",
    "valores_positivos"
   ]
  },
  {
   "cell_type": "code",
   "execution_count": 28,
   "metadata": {},
   "outputs": [
    {
     "data": {
      "text/plain": [
       "1359766838.568764"
      ]
     },
     "execution_count": 28,
     "metadata": {},
     "output_type": "execute_result"
    }
   ],
   "source": [
    "media = valores_positivos[\"probabilidad_de_aceptar\"].mean()\n",
    "desviacion = valores_positivos[\"probabilidad_de_aceptar\"].std()\n",
    "raiz_tamaño_muestra = np.sqrt(len(valores_positivos[\"probabilidad_de_aceptar\"]))\n",
    "\n",
    "Intervalo_superior = media + (1.96 * desviacion / raiz_tamaño_muestra)\n",
    "Intervalo_superior = Intervalo_superior * len(valores_positivos[\"probabilidad_de_aceptar\"]) * 31850 - len(valores_positivos[\"probabilidad_de_aceptar\"]) *128.8\n",
    "Intervalo_superior\n"
   ]
  },
  {
   "cell_type": "code",
   "execution_count": 29,
   "metadata": {},
   "outputs": [
    {
     "data": {
      "text/plain": [
       "1346734399.689927"
      ]
     },
     "execution_count": 29,
     "metadata": {},
     "output_type": "execute_result"
    }
   ],
   "source": [
    "Intervalo_inferior = media - (1.96 * desviacion / raiz_tamaño_muestra)\n",
    "Intervalo_inferior = Intervalo_inferior* len(valores_positivos[\"probabilidad_de_aceptar\"]) * 31850 - len(valores_positivos[\"probabilidad_de_aceptar\"]) *128.8\n",
    "Intervalo_inferior"
   ]
  },
  {
   "cell_type": "code",
   "execution_count": 46,
   "metadata": {},
   "outputs": [
    {
     "data": {
      "text/plain": [
       "[1345455526.8114386,\n",
       " 2701134903.5763226,\n",
       " 4046940780.296731,\n",
       " 5399275907.017139,\n",
       " 6747597933.737548,\n",
       " 8103786910.457956,\n",
       " 9449242437.434443,\n",
       " 10811833264.552809,\n",
       " 12162703291.671175,\n",
       " 13513700718.789541,\n",
       " 14869889695.907907,\n",
       " 16220536773.026274,\n",
       " 17577999750.144638,\n",
       " 18937023377.263004,\n",
       " 20291906504.38137,\n",
       " 21634654781.499737,\n",
       " 22993614708.618103,\n",
       " 24349517035.73647,\n",
       " 25708126612.854836,\n",
       " 27064442989.9732,\n",
       " 28413911617.091568,\n",
       " 29765928244.209934,\n",
       " 31118709271.3283,\n",
       " 32469101548.446667,\n",
       " 33826277875.565033,\n",
       " 35183358651.67593,\n",
       " 36527699427.20246,\n",
       " 37880512302.729,\n",
       " 39230522378.25553,\n",
       " 40587826103.78207,\n",
       " 41947773379.3086,\n",
       " 43296732404.83514,\n",
       " 44647697980.36167,\n",
       " 46009906605.88821,\n",
       " 47368293231.41474,\n",
       " 48724450356.94128,\n",
       " 50077486182.46781,\n",
       " 51436095757.99435,\n",
       " 52795151233.52088,\n",
       " 54149174409.04742,\n",
       " 55503197584.57395,\n",
       " 56852634360.10049,\n",
       " 58205479085.62702,\n",
       " 59552017511.15356,\n",
       " 60903174186.68009,\n",
       " 62266338312.20663,\n",
       " 63620011137.73316,\n",
       " 64972919563.2597,\n",
       " 66316464088.78623,\n",
       " 67672207164.31277,\n",
       " 69021420989.83931,\n",
       " 70373405765.36584,\n",
       " 71727078590.89238,\n",
       " 73080687716.41891,\n",
       " 74434583491.94545,\n",
       " 75782395917.47198,\n",
       " 77131928242.99852,\n",
       " 78496461918.52505,\n",
       " 79855389994.05159,\n",
       " 81211101219.57812,\n",
       " 82567576845.10466,\n",
       " 83929180320.6312,\n",
       " 85279922946.15773,\n",
       " 86640857571.68427,\n",
       " 87996409547.2108,\n",
       " 89349317972.73734,\n",
       " 90697257798.26387,\n",
       " 92043605123.7904,\n",
       " 93407469949.31694,\n",
       " 94753243974.84348,\n",
       " 96107107900.37001,\n",
       " 97460048175.89655,\n",
       " 98810281201.42308,\n",
       " 100162170426.94962,\n",
       " 101516894302.47615,\n",
       " 102870981178.00269,\n",
       " 104221628253.52922,\n",
       " 105566128279.05576,\n",
       " 106923336454.58229,\n",
       " 108272677680.10883,\n",
       " 109625426855.63536,\n",
       " 110980150731.1619,\n",
       " 112336721906.68843,\n",
       " 113684566182.21497,\n",
       " 115032760807.7415,\n",
       " 116390096383.26804,\n",
       " 117748737808.79457,\n",
       " 119095658434.3211,\n",
       " 120447069909.84764,\n",
       " 121798799885.37418,\n",
       " 123156103610.90071,\n",
       " 124509298686.42725,\n",
       " 125867749011.95378,\n",
       " 127219701937.48032,\n",
       " 128568979463.00685,\n",
       " 129917397038.53339,\n",
       " 131265750914.05992,\n",
       " 132620825139.58646,\n",
       " 133981982715.11299,\n",
       " 135342503290.63953]"
      ]
     },
     "execution_count": 46,
     "metadata": {},
     "output_type": "execute_result"
    }
   ],
   "source": [
    "probabilidades = valores_positivos[\"probabilidad_de_aceptar\"].tolist()\n",
    "todos_los_casos = []\n",
    "aceptacion = []\n",
    "\n",
    "for j in range (100):\n",
    "\n",
    "    for i in probabilidades:\n",
    "        instancia = random.random()\n",
    "        if i > instancia:\n",
    "            aceptacion.append(31850-128.8)\n",
    "        else:\n",
    "            aceptacion.append(-128.8)\n",
    "\n",
    "    todos_los_casos.append(sum(aceptacion))\n",
    "todos_los_casos"
   ]
  },
  {
   "cell_type": "code",
   "execution_count": 47,
   "metadata": {},
   "outputs": [
    {
     "name": "stdout",
     "output_type": "stream",
     "text": [
      "Mejor Caso: 135342503290.63953\n",
      "Peor Caso: 1345455526.8114386\n"
     ]
    }
   ],
   "source": [
    "print(\"Mejor Caso:\", max(todos_los_casos))\n",
    "print(\"Peor Caso:\", min(todos_los_casos))"
   ]
  }
 ],
 "metadata": {
  "kernelspec": {
   "display_name": "Python 3.9.6 64-bit",
   "language": "python",
   "name": "python3"
  },
  "language_info": {
   "codemirror_mode": {
    "name": "ipython",
    "version": 3
   },
   "file_extension": ".py",
   "mimetype": "text/x-python",
   "name": "python",
   "nbconvert_exporter": "python",
   "pygments_lexer": "ipython3",
   "version": "3.9.6"
  },
  "orig_nbformat": 4,
  "vscode": {
   "interpreter": {
    "hash": "31f2aee4e71d21fbe5cf8b01ff0e069b9275f58929596ceb00d14d90e3e16cd6"
   }
  }
 },
 "nbformat": 4,
 "nbformat_minor": 2
}
