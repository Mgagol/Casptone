{
 "cells": [
  {
   "cell_type": "code",
   "execution_count": 1,
   "metadata": {},
   "outputs": [],
   "source": [
    "import gurobipy as gp\n",
    "from gurobipy import GRB\n",
    "import sys\n",
    "\n",
    "# Data Processing\n",
    "import pandas as pd\n",
    "import numpy as np"
   ]
  },
  {
   "cell_type": "code",
   "execution_count": 2,
   "metadata": {},
   "outputs": [
    {
     "name": "stdout",
     "output_type": "stream",
     "text": [
      "        ID_CLIENTE  probabilidad_de_aceptar\n",
      "0          98717.0                 0.781240\n",
      "1          48404.0                 0.736765\n",
      "2          19398.0                 0.734941\n",
      "3          16233.0                 0.731999\n",
      "4          19929.0                 0.729799\n",
      "...            ...                      ...\n",
      "602555   1436134.0                 0.010711\n",
      "602556   1402635.0                 0.010709\n",
      "602557   1440072.0                 0.010707\n",
      "602558   1400657.0                 0.010706\n",
      "602559   1401811.0                 0.010705\n",
      "\n",
      "[602560 rows x 2 columns]\n"
     ]
    }
   ],
   "source": [
    "tabla_final = pd.read_csv('Resultados_Regresion_Logistica.csv', sep = \",\")\n",
    "tabla_final = tabla_final[[\"ID_CLIENTE\",\"probabilidad_de_aceptar\"]]\n",
    "print(tabla_final)"
   ]
  },
  {
   "cell_type": "code",
   "execution_count": 3,
   "metadata": {},
   "outputs": [],
   "source": [
    "array_cliente_probabilidad = tabla_final.to_numpy()\n",
    "array_cliente_probabilidad = array_cliente_probabilidad.tolist()"
   ]
  },
  {
   "cell_type": "code",
   "execution_count": 4,
   "metadata": {},
   "outputs": [
    {
     "name": "stdout",
     "output_type": "stream",
     "text": [
      "Restricted license - for non-production use only - expires 2024-10-28\n"
     ]
    }
   ],
   "source": [
    "# Crear un objeto de modelo de Gurobi\n",
    "model = gp.Model()"
   ]
  },
  {
   "cell_type": "code",
   "execution_count": 6,
   "metadata": {},
   "outputs": [],
   "source": [
    "# Conjuntos del modelo\n",
    "\n",
    "I = array_cliente_probabilidad #Conjunto de personas preaprobadas"
   ]
  },
  {
   "cell_type": "code",
   "execution_count": 7,
   "metadata": {},
   "outputs": [],
   "source": [
    "# Obtenemos las cardinalidades de cada conjunto\n",
    "car_i = len(I)"
   ]
  },
  {
   "cell_type": "code",
   "execution_count": 8,
   "metadata": {},
   "outputs": [],
   "source": [
    "# Parámetros del modelo\n",
    "C = 1000 # Cobertura\n",
    "\n",
    "p = list() # puntaje de posibilidad de la adquisición de una tarjeta de crédito para la persona preaprobada i.\n",
    "for i in range(car_i):\n",
    "    p.append(array_cliente_probabilidad[i][1])\n",
    "U = 29587 #utilidades generadas por una persona\n",
    "CPA_base = 8238"
   ]
  },
  {
   "cell_type": "code",
   "execution_count": 9,
   "metadata": {},
   "outputs": [],
   "source": [
    "# Creamos las variables de decisión\n",
    "\n",
    "e = model.addVars(car_i, vtype=GRB.BINARY, name=\"e\")  # 1 si a la persona se le envia cualquier tipo de publicidad, 0 en otro caso."
   ]
  },
  {
   "cell_type": "code",
   "execution_count": 10,
   "metadata": {},
   "outputs": [
    {
     "name": "stdout",
     "output_type": "stream",
     "text": [
      "Unexpected exception formatting exception. Falling back to standard exception\n"
     ]
    },
    {
     "name": "stderr",
     "output_type": "stream",
     "text": [
      "Traceback (most recent call last):\n",
      "  File \"src/gurobipy/linexpr.pxi\", line 568, in gurobipy.LinExpr.__truediv__\n",
      "TypeError: float() argument must be a string or a number, not 'gurobipy.LinExpr'\n",
      "\n",
      "During handling of the above exception, another exception occurred:\n",
      "\n",
      "Traceback (most recent call last):\n",
      "  File \"/Users/Cristobal/Library/Python/3.9/lib/python/site-packages/IPython/core/interactiveshell.py\", line 3460, in run_code\n",
      "    exec(code_obj, self.user_global_ns, self.user_ns)\n",
      "  File \"/var/folders/4f/dbgwrrz13h1_vh4b2d4htbn80000gn/T/ipykernel_20784/674696661.py\", line 3, in <module>\n",
      "    model.setObjective((gp.quicksum(e[i] * p[i] for i in range(car_i)))/(gp.quicksum(e[i] for i in range(car_i))), sense=GRB.MAXIMIZE)\n",
      "  File \"src/gurobipy/linexpr.pxi\", line 570, in gurobipy.LinExpr.__truediv__\n",
      "gurobipy.GurobiError: Divisor must be a constant\n",
      "\n",
      "During handling of the above exception, another exception occurred:\n",
      "\n",
      "Traceback (most recent call last):\n",
      "  File \"/Users/Cristobal/Library/Python/3.9/lib/python/site-packages/IPython/core/interactiveshell.py\", line 2057, in showtraceback\n",
      "    stb = self.InteractiveTB.structured_traceback(\n",
      "  File \"/Users/Cristobal/Library/Python/3.9/lib/python/site-packages/IPython/core/ultratb.py\", line 1288, in structured_traceback\n",
      "    return FormattedTB.structured_traceback(\n",
      "  File \"/Users/Cristobal/Library/Python/3.9/lib/python/site-packages/IPython/core/ultratb.py\", line 1177, in structured_traceback\n",
      "    return VerboseTB.structured_traceback(\n",
      "  File \"/Users/Cristobal/Library/Python/3.9/lib/python/site-packages/IPython/core/ultratb.py\", line 1049, in structured_traceback\n",
      "    formatted_exceptions += self.format_exception_as_a_whole(etype, evalue, etb, lines_of_context,\n",
      "  File \"/Users/Cristobal/Library/Python/3.9/lib/python/site-packages/IPython/core/ultratb.py\", line 935, in format_exception_as_a_whole\n",
      "    self.get_records(etb, number_of_lines_of_context, tb_offset) if etb else []\n",
      "  File \"/Users/Cristobal/Library/Python/3.9/lib/python/site-packages/IPython/core/ultratb.py\", line 1003, in get_records\n",
      "    lines, first = inspect.getsourcelines(etb.tb_frame)\n",
      "  File \"/Library/Developer/CommandLineTools/Library/Frameworks/Python3.framework/Versions/3.9/lib/python3.9/inspect.py\", line 1006, in getsourcelines\n",
      "    lines, lnum = findsource(object)\n",
      "  File \"/Library/Developer/CommandLineTools/Library/Frameworks/Python3.framework/Versions/3.9/lib/python3.9/inspect.py\", line 835, in findsource\n",
      "    raise OSError('could not get source code')\n",
      "OSError: could not get source code\n"
     ]
    }
   ],
   "source": [
    "# Seteamos la función objetivo\n",
    "\n",
    "model.setObjective((gp.quicksum(e[i] * p[i] for i in range(car_i)))/(gp.quicksum(e[i] for i in range(car_i))), sense=GRB.MAXIMIZE)"
   ]
  },
  {
   "cell_type": "code",
   "execution_count": 11,
   "metadata": {},
   "outputs": [
    {
     "name": "stdout",
     "output_type": "stream",
     "text": [
      "Unexpected exception formatting exception. Falling back to standard exception\n"
     ]
    },
    {
     "name": "stderr",
     "output_type": "stream",
     "text": [
      "Traceback (most recent call last):\n",
      "  File \"src/gurobipy/linexpr.pxi\", line 568, in gurobipy.LinExpr.__truediv__\n",
      "TypeError: float() argument must be a string or a number, not 'gurobipy.LinExpr'\n",
      "\n",
      "During handling of the above exception, another exception occurred:\n",
      "\n",
      "Traceback (most recent call last):\n",
      "  File \"/Users/Cristobal/Library/Python/3.9/lib/python/site-packages/IPython/core/interactiveshell.py\", line 3460, in run_code\n",
      "    exec(code_obj, self.user_global_ns, self.user_ns)\n",
      "  File \"/var/folders/4f/dbgwrrz13h1_vh4b2d4htbn80000gn/T/ipykernel_20784/3660822398.py\", line 6, in <module>\n",
      "    model.addConstrs(123.36 * ( (gp.quicksum(e[i] * p[i] for i in range(car_i)))/(gp.quicksum(e[i] for i in range(car_i))))^(-0.994) <= U, \"c2\")\n",
      "  File \"src/gurobipy/linexpr.pxi\", line 570, in gurobipy.LinExpr.__truediv__\n",
      "gurobipy.GurobiError: Divisor must be a constant\n",
      "\n",
      "During handling of the above exception, another exception occurred:\n",
      "\n",
      "Traceback (most recent call last):\n",
      "  File \"/Users/Cristobal/Library/Python/3.9/lib/python/site-packages/IPython/core/interactiveshell.py\", line 2057, in showtraceback\n",
      "    stb = self.InteractiveTB.structured_traceback(\n",
      "  File \"/Users/Cristobal/Library/Python/3.9/lib/python/site-packages/IPython/core/ultratb.py\", line 1288, in structured_traceback\n",
      "    return FormattedTB.structured_traceback(\n",
      "  File \"/Users/Cristobal/Library/Python/3.9/lib/python/site-packages/IPython/core/ultratb.py\", line 1177, in structured_traceback\n",
      "    return VerboseTB.structured_traceback(\n",
      "  File \"/Users/Cristobal/Library/Python/3.9/lib/python/site-packages/IPython/core/ultratb.py\", line 1049, in structured_traceback\n",
      "    formatted_exceptions += self.format_exception_as_a_whole(etype, evalue, etb, lines_of_context,\n",
      "  File \"/Users/Cristobal/Library/Python/3.9/lib/python/site-packages/IPython/core/ultratb.py\", line 935, in format_exception_as_a_whole\n",
      "    self.get_records(etb, number_of_lines_of_context, tb_offset) if etb else []\n",
      "  File \"/Users/Cristobal/Library/Python/3.9/lib/python/site-packages/IPython/core/ultratb.py\", line 1003, in get_records\n",
      "    lines, first = inspect.getsourcelines(etb.tb_frame)\n",
      "  File \"/Library/Developer/CommandLineTools/Library/Frameworks/Python3.framework/Versions/3.9/lib/python3.9/inspect.py\", line 1006, in getsourcelines\n",
      "    lines, lnum = findsource(object)\n",
      "  File \"/Library/Developer/CommandLineTools/Library/Frameworks/Python3.framework/Versions/3.9/lib/python3.9/inspect.py\", line 835, in findsource\n",
      "    raise OSError('could not get source code')\n",
      "OSError: could not get source code\n"
     ]
    }
   ],
   "source": [
    "# Agregamos las restricciones\n",
    "\n",
    "# Cobertura fija\n",
    "model.addConstr(gp.quicksum(e[i] for i in range(car_i)) == C, \"c1\")\n",
    "# CPA < Ingreso\n",
    "model.addConstrs(123.36 * ( (gp.quicksum(e[i] * p[i] for i in range(car_i)))/(gp.quicksum(e[i] for i in range(car_i))))^(-0.994) <= U, \"c2\")\n",
    "# Limitar el número de ofertas enviadas a una persona\n",
    "model.addConstrs(123.36 * ( (gp.quicksum(e[i] * p[i] for i in range(car_i)))/(gp.quicksum(e[i] for i in range(car_i))))^(-0.994) >= CPA_base , \"c3\")"
   ]
  },
  {
   "cell_type": "code",
   "execution_count": 12,
   "metadata": {},
   "outputs": [
    {
     "name": "stdout",
     "output_type": "stream",
     "text": [
      "Gurobi Optimizer version 10.0.1 build v10.0.1rc0 (mac64[arm])\n",
      "\n",
      "CPU model: Apple M2\n",
      "Thread count: 8 physical cores, 8 logical processors, using up to 8 threads\n",
      "\n"
     ]
    },
    {
     "ename": "GurobiError",
     "evalue": "Model too large for size-limited license; visit https://www.gurobi.com/free-trial for a full license",
     "output_type": "error",
     "traceback": [
      "\u001b[0;31m---------------------------------------------------------------------------\u001b[0m",
      "\u001b[0;31mGurobiError\u001b[0m                               Traceback (most recent call last)",
      "Cell \u001b[0;32mIn[12], line 3\u001b[0m\n\u001b[1;32m      1\u001b[0m \u001b[38;5;66;03m# Optimizamos el modelo\u001b[39;00m\n\u001b[0;32m----> 3\u001b[0m \u001b[43mmodel\u001b[49m\u001b[38;5;241;43m.\u001b[39;49m\u001b[43moptimize\u001b[49m\u001b[43m(\u001b[49m\u001b[43m)\u001b[49m\n\u001b[1;32m      5\u001b[0m \u001b[38;5;66;03m# Imprimimos la solución óptima\u001b[39;00m\n\u001b[1;32m      7\u001b[0m \u001b[38;5;28;01mif\u001b[39;00m model\u001b[38;5;241m.\u001b[39mstatus \u001b[38;5;241m==\u001b[39m GRB\u001b[38;5;241m.\u001b[39mOPTIMAL:\n",
      "File \u001b[0;32msrc/gurobipy/model.pxi:875\u001b[0m, in \u001b[0;36mgurobipy.Model.optimize\u001b[0;34m()\u001b[0m\n",
      "\u001b[0;31mGurobiError\u001b[0m: Model too large for size-limited license; visit https://www.gurobi.com/free-trial for a full license"
     ]
    }
   ],
   "source": [
    "# Optimizamos el modelo\n",
    "\n",
    "model.optimize()\n",
    "\n",
    "# Imprimimos la solución óptima\n",
    "\n",
    "if model.status == GRB.OPTIMAL:\n",
    "    print(\"Encontrada solución óptima!\")\n",
    "    print(\"Valor de función objetivo: \", model.objVal)\n",
    "    print(\"Variables:\")\n",
    "    for var in model.getVars():\n",
    "        print(var.varName, var.x)\n",
    "else:\n",
    "    print(\"No se encontró solución factible.\")"
   ]
  },
  {
   "cell_type": "code",
   "execution_count": 82,
   "metadata": {},
   "outputs": [
    {
     "data": {
      "text/html": [
       "<div>\n",
       "<style scoped>\n",
       "    .dataframe tbody tr th:only-of-type {\n",
       "        vertical-align: middle;\n",
       "    }\n",
       "\n",
       "    .dataframe tbody tr th {\n",
       "        vertical-align: top;\n",
       "    }\n",
       "\n",
       "    .dataframe thead th {\n",
       "        text-align: right;\n",
       "    }\n",
       "</style>\n",
       "<table border=\"1\" class=\"dataframe\">\n",
       "  <thead>\n",
       "    <tr style=\"text-align: right;\">\n",
       "      <th></th>\n",
       "      <th>Personas_que_se_envia</th>\n",
       "    </tr>\n",
       "  </thead>\n",
       "  <tbody>\n",
       "    <tr>\n",
       "      <th>0</th>\n",
       "      <td>1.0</td>\n",
       "    </tr>\n",
       "    <tr>\n",
       "      <th>1</th>\n",
       "      <td>1.0</td>\n",
       "    </tr>\n",
       "    <tr>\n",
       "      <th>2</th>\n",
       "      <td>1.0</td>\n",
       "    </tr>\n",
       "    <tr>\n",
       "      <th>3</th>\n",
       "      <td>1.0</td>\n",
       "    </tr>\n",
       "    <tr>\n",
       "      <th>4</th>\n",
       "      <td>1.0</td>\n",
       "    </tr>\n",
       "    <tr>\n",
       "      <th>...</th>\n",
       "      <td>...</td>\n",
       "    </tr>\n",
       "    <tr>\n",
       "      <th>602555</th>\n",
       "      <td>0.0</td>\n",
       "    </tr>\n",
       "    <tr>\n",
       "      <th>602556</th>\n",
       "      <td>0.0</td>\n",
       "    </tr>\n",
       "    <tr>\n",
       "      <th>602557</th>\n",
       "      <td>0.0</td>\n",
       "    </tr>\n",
       "    <tr>\n",
       "      <th>602558</th>\n",
       "      <td>0.0</td>\n",
       "    </tr>\n",
       "    <tr>\n",
       "      <th>602559</th>\n",
       "      <td>0.0</td>\n",
       "    </tr>\n",
       "  </tbody>\n",
       "</table>\n",
       "<p>602560 rows × 1 columns</p>\n",
       "</div>"
      ],
      "text/plain": [
       "        Personas_que_se_envia\n",
       "0                         1.0\n",
       "1                         1.0\n",
       "2                         1.0\n",
       "3                         1.0\n",
       "4                         1.0\n",
       "...                       ...\n",
       "602555                    0.0\n",
       "602556                    0.0\n",
       "602557                    0.0\n",
       "602558                    0.0\n",
       "602559                    0.0\n",
       "\n",
       "[602560 rows x 1 columns]"
      ]
     },
     "execution_count": 82,
     "metadata": {},
     "output_type": "execute_result"
    }
   ],
   "source": [
    "valores_e = [e[i].x for i in range(car_i)]\n",
    "df = pd.DataFrame({'Personas_que_se_envia':valores_e})\n",
    "df"
   ]
  },
  {
   "cell_type": "code",
   "execution_count": 83,
   "metadata": {},
   "outputs": [
    {
     "data": {
      "text/html": [
       "<div>\n",
       "<style scoped>\n",
       "    .dataframe tbody tr th:only-of-type {\n",
       "        vertical-align: middle;\n",
       "    }\n",
       "\n",
       "    .dataframe tbody tr th {\n",
       "        vertical-align: top;\n",
       "    }\n",
       "\n",
       "    .dataframe thead th {\n",
       "        text-align: right;\n",
       "    }\n",
       "</style>\n",
       "<table border=\"1\" class=\"dataframe\">\n",
       "  <thead>\n",
       "    <tr style=\"text-align: right;\">\n",
       "      <th></th>\n",
       "      <th>ID_CLIENTE</th>\n",
       "      <th>probabilidad_de_aceptar</th>\n",
       "      <th>Personas_que_se_envia</th>\n",
       "    </tr>\n",
       "  </thead>\n",
       "  <tbody>\n",
       "    <tr>\n",
       "      <th>0</th>\n",
       "      <td>98717.0</td>\n",
       "      <td>0.781240</td>\n",
       "      <td>1.0</td>\n",
       "    </tr>\n",
       "    <tr>\n",
       "      <th>1</th>\n",
       "      <td>48404.0</td>\n",
       "      <td>0.736765</td>\n",
       "      <td>1.0</td>\n",
       "    </tr>\n",
       "    <tr>\n",
       "      <th>2</th>\n",
       "      <td>19398.0</td>\n",
       "      <td>0.734941</td>\n",
       "      <td>1.0</td>\n",
       "    </tr>\n",
       "    <tr>\n",
       "      <th>3</th>\n",
       "      <td>16233.0</td>\n",
       "      <td>0.731999</td>\n",
       "      <td>1.0</td>\n",
       "    </tr>\n",
       "    <tr>\n",
       "      <th>4</th>\n",
       "      <td>19929.0</td>\n",
       "      <td>0.729799</td>\n",
       "      <td>1.0</td>\n",
       "    </tr>\n",
       "    <tr>\n",
       "      <th>...</th>\n",
       "      <td>...</td>\n",
       "      <td>...</td>\n",
       "      <td>...</td>\n",
       "    </tr>\n",
       "    <tr>\n",
       "      <th>602555</th>\n",
       "      <td>1436134.0</td>\n",
       "      <td>0.010711</td>\n",
       "      <td>0.0</td>\n",
       "    </tr>\n",
       "    <tr>\n",
       "      <th>602556</th>\n",
       "      <td>1402635.0</td>\n",
       "      <td>0.010709</td>\n",
       "      <td>0.0</td>\n",
       "    </tr>\n",
       "    <tr>\n",
       "      <th>602557</th>\n",
       "      <td>1440072.0</td>\n",
       "      <td>0.010707</td>\n",
       "      <td>0.0</td>\n",
       "    </tr>\n",
       "    <tr>\n",
       "      <th>602558</th>\n",
       "      <td>1400657.0</td>\n",
       "      <td>0.010706</td>\n",
       "      <td>0.0</td>\n",
       "    </tr>\n",
       "    <tr>\n",
       "      <th>602559</th>\n",
       "      <td>1401811.0</td>\n",
       "      <td>0.010705</td>\n",
       "      <td>0.0</td>\n",
       "    </tr>\n",
       "  </tbody>\n",
       "</table>\n",
       "<p>602560 rows × 3 columns</p>\n",
       "</div>"
      ],
      "text/plain": [
       "        ID_CLIENTE  probabilidad_de_aceptar  Personas_que_se_envia\n",
       "0          98717.0                 0.781240                    1.0\n",
       "1          48404.0                 0.736765                    1.0\n",
       "2          19398.0                 0.734941                    1.0\n",
       "3          16233.0                 0.731999                    1.0\n",
       "4          19929.0                 0.729799                    1.0\n",
       "...            ...                      ...                    ...\n",
       "602555   1436134.0                 0.010711                    0.0\n",
       "602556   1402635.0                 0.010709                    0.0\n",
       "602557   1440072.0                 0.010707                    0.0\n",
       "602558   1400657.0                 0.010706                    0.0\n",
       "602559   1401811.0                 0.010705                    0.0\n",
       "\n",
       "[602560 rows x 3 columns]"
      ]
     },
     "execution_count": 83,
     "metadata": {},
     "output_type": "execute_result"
    }
   ],
   "source": [
    "tabla_con_id_cliente_mas_probabilidad = pd.merge(tabla_final, df, left_index=True, right_index=True)\n",
    "\n",
    "tabla_con_id_cliente_mas_probabilidad"
   ]
  },
  {
   "cell_type": "code",
   "execution_count": 84,
   "metadata": {},
   "outputs": [
    {
     "data": {
      "text/html": [
       "<div>\n",
       "<style scoped>\n",
       "    .dataframe tbody tr th:only-of-type {\n",
       "        vertical-align: middle;\n",
       "    }\n",
       "\n",
       "    .dataframe tbody tr th {\n",
       "        vertical-align: top;\n",
       "    }\n",
       "\n",
       "    .dataframe thead th {\n",
       "        text-align: right;\n",
       "    }\n",
       "</style>\n",
       "<table border=\"1\" class=\"dataframe\">\n",
       "  <thead>\n",
       "    <tr style=\"text-align: right;\">\n",
       "      <th></th>\n",
       "      <th>ID_CLIENTE</th>\n",
       "      <th>probabilidad_de_aceptar</th>\n",
       "      <th>Personas_que_se_envia</th>\n",
       "    </tr>\n",
       "  </thead>\n",
       "  <tbody>\n",
       "    <tr>\n",
       "      <th>0</th>\n",
       "      <td>98717.0</td>\n",
       "      <td>0.781240</td>\n",
       "      <td>1.0</td>\n",
       "    </tr>\n",
       "    <tr>\n",
       "      <th>1</th>\n",
       "      <td>48404.0</td>\n",
       "      <td>0.736765</td>\n",
       "      <td>1.0</td>\n",
       "    </tr>\n",
       "    <tr>\n",
       "      <th>2</th>\n",
       "      <td>19398.0</td>\n",
       "      <td>0.734941</td>\n",
       "      <td>1.0</td>\n",
       "    </tr>\n",
       "    <tr>\n",
       "      <th>3</th>\n",
       "      <td>16233.0</td>\n",
       "      <td>0.731999</td>\n",
       "      <td>1.0</td>\n",
       "    </tr>\n",
       "    <tr>\n",
       "      <th>4</th>\n",
       "      <td>19929.0</td>\n",
       "      <td>0.729799</td>\n",
       "      <td>1.0</td>\n",
       "    </tr>\n",
       "    <tr>\n",
       "      <th>...</th>\n",
       "      <td>...</td>\n",
       "      <td>...</td>\n",
       "      <td>...</td>\n",
       "    </tr>\n",
       "    <tr>\n",
       "      <th>23221</th>\n",
       "      <td>149869.0</td>\n",
       "      <td>0.475009</td>\n",
       "      <td>1.0</td>\n",
       "    </tr>\n",
       "    <tr>\n",
       "      <th>23222</th>\n",
       "      <td>706635.0</td>\n",
       "      <td>0.475008</td>\n",
       "      <td>1.0</td>\n",
       "    </tr>\n",
       "    <tr>\n",
       "      <th>23223</th>\n",
       "      <td>624667.0</td>\n",
       "      <td>0.475004</td>\n",
       "      <td>1.0</td>\n",
       "    </tr>\n",
       "    <tr>\n",
       "      <th>23224</th>\n",
       "      <td>417288.0</td>\n",
       "      <td>0.475003</td>\n",
       "      <td>1.0</td>\n",
       "    </tr>\n",
       "    <tr>\n",
       "      <th>23225</th>\n",
       "      <td>231932.0</td>\n",
       "      <td>0.475002</td>\n",
       "      <td>1.0</td>\n",
       "    </tr>\n",
       "  </tbody>\n",
       "</table>\n",
       "<p>23226 rows × 3 columns</p>\n",
       "</div>"
      ],
      "text/plain": [
       "       ID_CLIENTE  probabilidad_de_aceptar  Personas_que_se_envia\n",
       "0         98717.0                 0.781240                    1.0\n",
       "1         48404.0                 0.736765                    1.0\n",
       "2         19398.0                 0.734941                    1.0\n",
       "3         16233.0                 0.731999                    1.0\n",
       "4         19929.0                 0.729799                    1.0\n",
       "...           ...                      ...                    ...\n",
       "23221    149869.0                 0.475009                    1.0\n",
       "23222    706635.0                 0.475008                    1.0\n",
       "23223    624667.0                 0.475004                    1.0\n",
       "23224    417288.0                 0.475003                    1.0\n",
       "23225    231932.0                 0.475002                    1.0\n",
       "\n",
       "[23226 rows x 3 columns]"
      ]
     },
     "execution_count": 84,
     "metadata": {},
     "output_type": "execute_result"
    }
   ],
   "source": [
    "valores_positivos = tabla_con_id_cliente_mas_probabilidad[tabla_con_id_cliente_mas_probabilidad['Personas_que_se_envia'] == 1]\n",
    "valores_positivos"
   ]
  },
  {
   "cell_type": "code",
   "execution_count": 85,
   "metadata": {},
   "outputs": [
    {
     "data": {
      "text/plain": [
       "406234955.7389619"
      ]
     },
     "execution_count": 85,
     "metadata": {},
     "output_type": "execute_result"
    }
   ],
   "source": [
    "media = valores_positivos[\"probabilidad_de_aceptar\"].mean()\n",
    "desviacion = valores_positivos[\"probabilidad_de_aceptar\"].std()\n",
    "raiz_tamaño_muestra = np.sqrt(len(valores_positivos[\"probabilidad_de_aceptar\"]))\n",
    "\n",
    "Intervalo_superior = media + (1.96 * desviacion / raiz_tamaño_muestra)\n",
    "Intervalo_superior = Intervalo_superior * len(valores_positivos[\"probabilidad_de_aceptar\"]) * 31850 - len(valores_positivos[\"probabilidad_de_aceptar\"]) *128.8\n",
    "Intervalo_superior\n",
    "\n"
   ]
  },
  {
   "cell_type": "code",
   "execution_count": 86,
   "metadata": {},
   "outputs": [
    {
     "data": {
      "text/plain": [
       "405235273.76324093"
      ]
     },
     "execution_count": 86,
     "metadata": {},
     "output_type": "execute_result"
    }
   ],
   "source": [
    "Intervalo_inferior = media - (1.96 * desviacion / raiz_tamaño_muestra)\n",
    "Intervalo_inferior = Intervalo_inferior* len(valores_positivos[\"probabilidad_de_aceptar\"]) * 31850 - len(valores_positivos[\"probabilidad_de_aceptar\"]) *128.8\n",
    "Intervalo_inferior"
   ]
  },
  {
   "cell_type": "code",
   "execution_count": 87,
   "metadata": {},
   "outputs": [
    {
     "data": {
      "text/plain": [
       "0.552521356325351"
      ]
     },
     "execution_count": 87,
     "metadata": {},
     "output_type": "execute_result"
    }
   ],
   "source": [
    "media"
   ]
  },
  {
   "cell_type": "code",
   "execution_count": 88,
   "metadata": {},
   "outputs": [
    {
     "data": {
      "text/plain": [
       "0.052538678799748405"
      ]
     },
     "execution_count": 88,
     "metadata": {},
     "output_type": "execute_result"
    }
   ],
   "source": [
    "desviacion"
   ]
  }
 ],
 "metadata": {
  "kernelspec": {
   "display_name": "Python 3.9.6 64-bit",
   "language": "python",
   "name": "python3"
  },
  "language_info": {
   "codemirror_mode": {
    "name": "ipython",
    "version": 3
   },
   "file_extension": ".py",
   "mimetype": "text/x-python",
   "name": "python",
   "nbconvert_exporter": "python",
   "pygments_lexer": "ipython3",
   "version": "3.9.6"
  },
  "orig_nbformat": 4,
  "vscode": {
   "interpreter": {
    "hash": "31f2aee4e71d21fbe5cf8b01ff0e069b9275f58929596ceb00d14d90e3e16cd6"
   }
  }
 },
 "nbformat": 4,
 "nbformat_minor": 2
}
